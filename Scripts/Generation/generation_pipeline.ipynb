{
 "cells": [
  {
   "cell_type": "markdown",
   "metadata": {},
   "source": [
    "# Image Generation pipeline"
   ]
  },
  {
   "cell_type": "markdown",
   "metadata": {},
   "source": [
    "First, the required imports"
   ]
  },
  {
   "cell_type": "code",
   "execution_count": null,
   "metadata": {},
   "outputs": [],
   "source": [
    "%pip install ftfy \n",
    "%pip install torch \n",
    "%pip install numpy \n",
    "%pip install pillow\n",
    "%pip install diffusers\n",
    "%pip install accelerate \n",
    "%pip install safetensors \n",
    "%pip install torchvision \n",
    "%pip install transformers "
   ]
  },
  {
   "cell_type": "markdown",
   "metadata": {},
   "source": [
    "In this piece of code we load up, from our hugging face account, a stable diffusion model and its weights"
   ]
  },
  {
   "cell_type": "code",
   "execution_count": null,
   "metadata": {},
   "outputs": [],
   "source": [
    "import torch\n",
    "\n",
    "from huggingface_hub import hf_hub_download\n",
    "from diffusers import StableDiffusionXLPipeline\n",
    "\n",
    "model_path = hf_hub_download(repo_id=\"Viennoiserie/Pony\",\n",
    "                             filename=\"pony_v50.safetensors\",\n",
    "                             token=\"\")\n",
    "\n",
    "pipe = StableDiffusionXLPipeline.from_single_file(model_path,\n",
    "                                                  torch_dtype=torch.float16,\n",
    "                                                  use_safetensors=True).to(\"cuda\")\n",
    "\n",
    "pipe.enable_model_cpu_offload()"
   ]
  },
  {
   "cell_type": "markdown",
   "metadata": {},
   "source": [
    "In this piece of code, using the previous model, we generate an image following the prompt we entered. Once rendered we display this image"
   ]
  },
  {
   "cell_type": "code",
   "execution_count": null,
   "metadata": {},
   "outputs": [],
   "source": [
    "prompt = \"\"\n",
    "\n",
    "image = pipe(prompt=prompt,\n",
    "             num_inference_steps=50,\n",
    "\n",
    "             height=1024,\n",
    "             width=1024,\n",
    "             \n",
    "             guidance_scale=7.5).images[0]"
   ]
  },
  {
   "cell_type": "markdown",
   "metadata": {},
   "source": [
    "Finally, we save it"
   ]
  },
  {
   "cell_type": "code",
   "execution_count": null,
   "metadata": {},
   "outputs": [],
   "source": [
    "image.save(f\"Output/test\")"
   ]
  }
 ],
 "metadata": {
  "language_info": {
   "name": "python"
  }
 },
 "nbformat": 4,
 "nbformat_minor": 2
}
