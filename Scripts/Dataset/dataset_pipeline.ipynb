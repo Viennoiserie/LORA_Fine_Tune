{
 "cells": [
  {
   "cell_type": "markdown",
   "metadata": {},
   "source": [
    "## I - Imports"
   ]
  },
  {
   "cell_type": "code",
   "execution_count": null,
   "metadata": {},
   "outputs": [],
   "source": [
    "import os\n",
    "import pandas as pd\n",
    "import matplotlib.pyplot as plt\n",
    "\n",
    "from PIL import Image"
   ]
  },
  {
   "cell_type": "markdown",
   "metadata": {},
   "source": [
    "## II - Obtaining the Data"
   ]
  },
  {
   "cell_type": "code",
   "execution_count": null,
   "metadata": {},
   "outputs": [],
   "source": [
    "data_dir = r\"..\\Data\"\n",
    "image_dir = r\"..\\Data\"\n",
    "image_files = [f for f in os.listdir(image_dir) if f.lower().endswith(('.jpg', '.jpeg', '.png', '.webp'))]"
   ]
  },
  {
   "cell_type": "markdown",
   "metadata": {},
   "source": [
    "## III - Manual Prompting"
   ]
  },
  {
   "cell_type": "code",
   "execution_count": null,
   "metadata": {},
   "outputs": [],
   "source": [
    "data = []\n",
    "\n",
    "print(\"Instructions : Une image va s'ouvrir. Écris sa description dans le terminal et appuie sur Entrée.\\n\")\n",
    "\n",
    "for idx, file in enumerate(image_files):\n",
    "    \n",
    "    image_path = os.path.join(image_dir, file)\n",
    "    image = Image.open(image_path).convert(\"RGB\")\n",
    "\n",
    "    plt.imshow(image)\n",
    "    plt.axis('off')\n",
    "\n",
    "    plt.title(f\"Image {idx+1} / {len(image_files)}\")\n",
    "    plt.show(block=False)\n",
    "\n",
    "    prompt = input(f\"Entrez un prompt pour '{file}': \").strip()\n",
    "    plt.close()\n",
    "\n",
    "    if prompt:\n",
    "\n",
    "        data.append({\"image\": image_path, \"text\": prompt})"
   ]
  },
  {
   "cell_type": "markdown",
   "metadata": {},
   "source": [
    "## IV - Data Saving"
   ]
  },
  {
   "cell_type": "code",
   "execution_count": null,
   "metadata": {},
   "outputs": [],
   "source": [
    "output_path = os.path.join(data_dir, \"dataset.parquet\")\n",
    "\n",
    "df = pd.DataFrame(data)\n",
    "df.to_parquet(output_path, index=False)\n",
    "\n",
    "print(f\"\\n Terminé ! Données sauvegardées dans : {output_path}\")"
   ]
  },
  {
   "cell_type": "markdown",
   "metadata": {},
   "source": [
    "## (OPTIONAL) Verification"
   ]
  },
  {
   "cell_type": "code",
   "execution_count": null,
   "metadata": {},
   "outputs": [],
   "source": [
    "print(df)"
   ]
  }
 ],
 "metadata": {
  "kernelspec": {
   "display_name": "Python 3",
   "language": "python",
   "name": "python3"
  },
  "language_info": {
   "codemirror_mode": {
    "name": "ipython",
    "version": 3
   },
   "file_extension": ".py",
   "mimetype": "text/x-python",
   "name": "python",
   "nbconvert_exporter": "python",
   "pygments_lexer": "ipython3",
   "version": "3.10.11"
  }
 },
 "nbformat": 4,
 "nbformat_minor": 2
}
