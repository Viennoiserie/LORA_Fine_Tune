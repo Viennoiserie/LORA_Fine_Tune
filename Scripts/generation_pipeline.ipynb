{
 "cells": [
  {
   "cell_type": "markdown",
   "metadata": {},
   "source": [
    "# Image Generation pipeline"
   ]
  },
  {
   "cell_type": "markdown",
   "metadata": {},
   "source": [
    "In this piece of code we load up, from our hugging face account, a stable diffusion model and its weights"
   ]
  },
  {
   "cell_type": "code",
   "execution_count": null,
   "metadata": {},
   "outputs": [],
   "source": [
    "import torch\n",
    "from diffusers import DiffusionPipeline\n",
    "\n",
    "pipe = DiffusionPipeline.from_pretrained(\n",
    "\n",
    "    \"stabilityai/stable-diffusion-xl-base-1.0\",\n",
    "    torch_dtype=torch.float16,\n",
    "    \n",
    "    variant=\"fp16\",\n",
    "    use_safetensors=True).to(\"cuda\")\n",
    "\n",
    "\n",
    "pipe.enable_model_cpu_offload()\n",
    "pipe.load_lora_weights(\"ADD MY HUGGING FACE TRAINED MODEL\")"
   ]
  },
  {
   "cell_type": "markdown",
   "metadata": {},
   "source": [
    "In this piece of code, using the previous model, we generate an image following the prompt we entered. Once rendered we display this image"
   ]
  },
  {
   "cell_type": "code",
   "execution_count": null,
   "metadata": {},
   "outputs": [],
   "source": [
    "prompt = \"\"\n",
    "\n",
    "image = pipe(\n",
    "\n",
    "    prompt = prompt,\n",
    "    num_inference_steps=50,\n",
    "\n",
    "    height=1024,\n",
    "    width=1024,\n",
    "\n",
    "    guidance_scale=7.0,).images[0]\n",
    "\n",
    "image"
   ]
  },
  {
   "cell_type": "markdown",
   "metadata": {},
   "source": [
    "Finally, we save it"
   ]
  },
  {
   "cell_type": "code",
   "execution_count": null,
   "metadata": {},
   "outputs": [],
   "source": [
    "image.save(f\"PATH\")"
   ]
  }
 ],
 "metadata": {
  "language_info": {
   "name": "python"
  }
 },
 "nbformat": 4,
 "nbformat_minor": 2
}
