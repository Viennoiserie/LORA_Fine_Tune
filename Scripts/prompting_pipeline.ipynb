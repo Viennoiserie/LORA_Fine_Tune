{
 "cells": [
  {
   "cell_type": "markdown",
   "metadata": {},
   "source": [
    "## I - Imports"
   ]
  },
  {
   "cell_type": "code",
   "execution_count": 1,
   "metadata": {},
   "outputs": [],
   "source": [
    "import os\n",
    "import pandas as pd\n",
    "import matplotlib.pyplot as plt\n",
    "\n",
    "from PIL import Image"
   ]
  },
  {
   "cell_type": "markdown",
   "metadata": {},
   "source": [
    "## II - Obtaining the Data"
   ]
  },
  {
   "cell_type": "code",
   "execution_count": null,
   "metadata": {},
   "outputs": [],
   "source": [
    "\n",
    "image_dir = r\"..\\NSFW_Dataset\"\n",
    "image_files = [f for f in os.listdir(image_dir) if f.lower().endswith(('.jpg', '.jpeg', '.png', '.webp'))]"
   ]
  },
  {
   "cell_type": "markdown",
   "metadata": {},
   "source": [
    "## III - Manual Prompting"
   ]
  },
  {
   "cell_type": "code",
   "execution_count": null,
   "metadata": {},
   "outputs": [],
   "source": [
    "data = []\n",
    "\n",
    "print(\"Instructions : Une image va s'ouvrir. Écris sa description dans le terminal et appuie sur Entrée.\\n\")\n",
    "\n",
    "for idx, file in enumerate(image_files):\n",
    "    \n",
    "    image_path = os.path.join(image_dir, file)\n",
    "    image = Image.open(image_path).convert(\"RGB\")\n",
    "\n",
    "    plt.imshow(image)\n",
    "    plt.axis('off')\n",
    "\n",
    "    plt.title(f\"Image {idx+1} / {len(image_files)}\")\n",
    "    plt.show(block=False)\n",
    "\n",
    "    prompt = input(f\"Entrez un prompt pour '{file}': \").strip()\n",
    "    plt.close()\n",
    "\n",
    "    if prompt:\n",
    "\n",
    "        data.append({\"image\": image_path, \"text\": prompt})"
   ]
  },
  {
   "cell_type": "markdown",
   "metadata": {},
   "source": [
    "## IV - Data Saving"
   ]
  },
  {
   "cell_type": "code",
   "execution_count": null,
   "metadata": {},
   "outputs": [
    {
     "name": "stdout",
     "output_type": "stream",
     "text": [
      "\n",
      "✅ Terminé ! Données sauvegardées dans : ..\\NSFW_Dataset\\manual_prompts.parquet\n"
     ]
    }
   ],
   "source": [
    "output_path = os.path.join(image_dir, \"manual_prompts.parquet\")\n",
    "\n",
    "df = pd.DataFrame(data)\n",
    "df.to_parquet(output_path, index=False)\n",
    "\n",
    "print(f\"\\n Terminé ! Données sauvegardées dans : {output_path}\")"
   ]
  },
  {
   "cell_type": "markdown",
   "metadata": {},
   "source": [
    "## (OPTIONAL) Verification"
   ]
  },
  {
   "cell_type": "code",
   "execution_count": 5,
   "metadata": {},
   "outputs": [
    {
     "name": "stdout",
     "output_type": "stream",
     "text": [
      "                                     image  \\\n",
      "0    ..\\NSFW_Dataset\\12143750_027_1eed.jpg   \n",
      "1    ..\\NSFW_Dataset\\12997101_005_69cc.jpg   \n",
      "2    ..\\NSFW_Dataset\\13301957_014_b882.jpg   \n",
      "3    ..\\NSFW_Dataset\\13301957_018_97e1.jpg   \n",
      "4    ..\\NSFW_Dataset\\13301957_047_0a2d.jpg   \n",
      "..                                     ...   \n",
      "295  ..\\NSFW_Dataset\\98156635_015_84cd.jpg   \n",
      "296  ..\\NSFW_Dataset\\98156635_016_0b0b.jpg   \n",
      "297  ..\\NSFW_Dataset\\98805630_004_6521.jpg   \n",
      "298  ..\\NSFW_Dataset\\98805630_009_168e.jpg   \n",
      "299  ..\\NSFW_Dataset\\99766522_007_c8ff.jpg   \n",
      "\n",
      "                                                  text  \n",
      "0    a young asian woman nude, standing next to a c...  \n",
      "1    a young asian woman, in white lingerie, sittin...  \n",
      "2    a young white woman, in white lingerie, sittin...  \n",
      "3    a young white woman, sitting on a desk, she is...  \n",
      "4    a young white woman, standing in front of a de...  \n",
      "..                                                 ...  \n",
      "295  a close top view picture of a young white woma...  \n",
      "296  a top view picture of a woman laying sideways ...  \n",
      "297  a young asian woman on all fours on the ground...  \n",
      "298  a close up picture of a young asian woman with...  \n",
      "299  a young woman sitting on a chair with see-thro...  \n",
      "\n",
      "[300 rows x 2 columns]\n"
     ]
    }
   ],
   "source": [
    "print(df)"
   ]
  }
 ],
 "metadata": {
  "kernelspec": {
   "display_name": "Python 3",
   "language": "python",
   "name": "python3"
  },
  "language_info": {
   "codemirror_mode": {
    "name": "ipython",
    "version": 3
   },
   "file_extension": ".py",
   "mimetype": "text/x-python",
   "name": "python",
   "nbconvert_exporter": "python",
   "pygments_lexer": "ipython3",
   "version": "3.10.11"
  }
 },
 "nbformat": 4,
 "nbformat_minor": 2
}
